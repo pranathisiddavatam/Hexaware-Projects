{
 "cells": [
  {
   "cell_type": "code",
   "execution_count": 0,
   "metadata": {
    "application/vnd.databricks.v1+cell": {
     "cellMetadata": {
      "byteLimit": 2048000,
      "rowLimit": 10000
     },
     "inputWidgets": {},
     "nuid": "15aaf8d3-b987-4117-b196-ed4bd0091e1d",
     "showTitle": false,
     "tableResultSettingsMap": {},
     "title": ""
    }
   },
   "outputs": [],
   "source": [
    "\n",
    "account   = \"weatherdatastorage09\"\n",
    "container = \"bronzelayer\"\n",
    "gold_dir  = \"goldlayer/weather_features\"       \n",
    "\n",
    "gold_path = f\"abfss://{container}@{account}.dfs.core.windows.net/{gold_dir}\"\n",
    "\n",
    "spark.conf.set(\n",
    "    f\"fs.azure.account.key.{account}.dfs.core.windows.net\",\n",
    "    \"B2bEeFnUp3PZ3F30/WS4303QZSBtriz3pc4ntFa6cH5kbSALhzmK8YLN1wCUrpTNjGoVSQXNZQH8+ASt+5Nm4w==\"  \n",
    ")\n"
   ]
  },
  {
   "cell_type": "code",
   "execution_count": 0,
   "metadata": {
    "application/vnd.databricks.v1+cell": {
     "cellMetadata": {
      "byteLimit": 2048000,
      "rowLimit": 10000
     },
     "inputWidgets": {},
     "nuid": "38ab6ca5-95a9-4897-86a8-fc6b65832e14",
     "showTitle": false,
     "tableResultSettingsMap": {},
     "title": ""
    }
   },
   "outputs": [
    {
     "output_type": "stream",
     "name": "stdout",
     "output_type": "stream",
     "text": [
      "Shape before drop-na: (1629108, 6)\nShape after  drop-na: (1596329, 6)\n"
     ]
    },
    {
     "output_type": "execute_result",
     "data": {
      "text/html": [
       "<div>\n",
       "<style scoped>\n",
       "    .dataframe tbody tr th:only-of-type {\n",
       "        vertical-align: middle;\n",
       "    }\n",
       "\n",
       "    .dataframe tbody tr th {\n",
       "        vertical-align: top;\n",
       "    }\n",
       "\n",
       "    .dataframe thead th {\n",
       "        text-align: right;\n",
       "    }\n",
       "</style>\n",
       "<table border=\"1\" class=\"dataframe\">\n",
       "  <thead>\n",
       "    <tr style=\"text-align: right;\">\n",
       "      <th></th>\n",
       "      <th>datetime</th>\n",
       "      <th>location</th>\n",
       "      <th>temperature</th>\n",
       "      <th>humidity</th>\n",
       "      <th>pressure</th>\n",
       "      <th>wind_speed</th>\n",
       "    </tr>\n",
       "  </thead>\n",
       "  <tbody>\n",
       "    <tr>\n",
       "      <th>0</th>\n",
       "      <td>2015-12-20 13:00:00</td>\n",
       "      <td>Vancouver</td>\n",
       "      <td>280.380000</td>\n",
       "      <td>81.0</td>\n",
       "      <td>1000.0</td>\n",
       "      <td>6.0</td>\n",
       "    </tr>\n",
       "    <tr>\n",
       "      <th>1</th>\n",
       "      <td>2015-12-20 14:00:00</td>\n",
       "      <td>Vancouver</td>\n",
       "      <td>277.620000</td>\n",
       "      <td>87.0</td>\n",
       "      <td>1000.0</td>\n",
       "      <td>7.0</td>\n",
       "    </tr>\n",
       "    <tr>\n",
       "      <th>2</th>\n",
       "      <td>2015-12-20 15:00:00</td>\n",
       "      <td>Vancouver</td>\n",
       "      <td>277.386887</td>\n",
       "      <td>86.0</td>\n",
       "      <td>1000.0</td>\n",
       "      <td>6.0</td>\n",
       "    </tr>\n",
       "    <tr>\n",
       "      <th>3</th>\n",
       "      <td>2015-12-20 16:00:00</td>\n",
       "      <td>Vancouver</td>\n",
       "      <td>276.430000</td>\n",
       "      <td>86.0</td>\n",
       "      <td>1002.0</td>\n",
       "      <td>3.0</td>\n",
       "    </tr>\n",
       "    <tr>\n",
       "      <th>4</th>\n",
       "      <td>2015-12-20 17:00:00</td>\n",
       "      <td>Vancouver</td>\n",
       "      <td>276.540000</td>\n",
       "      <td>100.0</td>\n",
       "      <td>997.0</td>\n",
       "      <td>3.0</td>\n",
       "    </tr>\n",
       "  </tbody>\n",
       "</table>\n",
       "</div>"
      ],
      "text/plain": [
       "             datetime   location  temperature  humidity  pressure  wind_speed\n",
       "0 2015-12-20 13:00:00  Vancouver   280.380000      81.0    1000.0         6.0\n",
       "1 2015-12-20 14:00:00  Vancouver   277.620000      87.0    1000.0         7.0\n",
       "2 2015-12-20 15:00:00  Vancouver   277.386887      86.0    1000.0         6.0\n",
       "3 2015-12-20 16:00:00  Vancouver   276.430000      86.0    1002.0         3.0\n",
       "4 2015-12-20 17:00:00  Vancouver   276.540000     100.0     997.0         3.0"
      ]
     },
     "execution_count": 4,
     "metadata": {},
     "output_type": "execute_result"
    }
   ],
   "source": [
    "\n",
    "import pandas as pd\n",
    "\n",
    "gold_pdf = (\n",
    "    spark.read\n",
    "         .format(\"delta\")\n",
    "         .load(gold_path)\n",
    "         .toPandas()\n",
    ")\n",
    "\n",
    "print(\"Shape before drop-na:\", gold_pdf.shape)\n",
    "gold_pdf.dropna(inplace=True)\n",
    "print(\"Shape after  drop-na:\", gold_pdf.shape)\n",
    "gold_pdf.head()\n"
   ]
  },
  {
   "cell_type": "code",
   "execution_count": 0,
   "metadata": {
    "application/vnd.databricks.v1+cell": {
     "cellMetadata": {
      "byteLimit": 2048000,
      "rowLimit": 10000
     },
     "inputWidgets": {},
     "nuid": "ceff17ae-3f07-46f2-9e9a-c3979c71d03c",
     "showTitle": false,
     "tableResultSettingsMap": {},
     "title": ""
    }
   },
   "outputs": [
    {
     "output_type": "stream",
     "name": "stdout",
     "output_type": "stream",
     "text": [
      "Train rows: 1277063, Test rows: 319266\n"
     ]
    }
   ],
   "source": [
    "from sklearn.model_selection import train_test_split\n",
    "\n",
    "FEATURES = [\"humidity\", \"pressure\", \"wind_speed\"]\n",
    "TARGET   = \"temperature\"\n",
    "\n",
    "X = gold_pdf[FEATURES]\n",
    "y = gold_pdf[TARGET]\n",
    "\n",
    "X_train, X_test, y_train, y_test = train_test_split(\n",
    "    X, y, test_size=0.2, random_state=42\n",
    ")\n",
    "print(f\"Train rows: {len(X_train)}, Test rows: {len(X_test)}\")\n"
   ]
  },
  {
   "cell_type": "code",
   "execution_count": 0,
   "metadata": {
    "application/vnd.databricks.v1+cell": {
     "cellMetadata": {
      "byteLimit": 2048000,
      "rowLimit": 10000
     },
     "inputWidgets": {},
     "nuid": "3de16690-085b-4c18-a613-8363faafc551",
     "showTitle": false,
     "tableResultSettingsMap": {},
     "title": ""
    }
   },
   "outputs": [
    {
     "output_type": "display_data",
     "data": {
      "application/vnd.jupyter.widget-view+json": {
       "model_id": "28b0e08882474c60ab0fd7ec74d9c903",
       "version_major": 2,
       "version_minor": 0
      },
      "text/plain": [
       "Uploading artifacts:   0%|          | 0/9 [00:00<?, ?it/s]"
      ]
     },
     "metadata": {},
     "output_type": "display_data"
    },
    {
     "output_type": "stream",
     "name": "stdout",
     "output_type": "stream",
     "text": [
      "Baseline LinearRegression RMSE: 9.84\n"
     ]
    }
   ],
   "source": [
    "from sklearn.linear_model import LinearRegression\n",
    "from sklearn.metrics import mean_squared_error\n",
    "\n",
    "linreg = LinearRegression()\n",
    "linreg.fit(X_train, y_train)\n",
    "\n",
    "y_pred = linreg.predict(X_test)\n",
    "rmse   = mean_squared_error(y_test, y_pred, squared=False)\n",
    "print(f\"Baseline LinearRegression RMSE: {rmse:.2f}\")\n"
   ]
  },
  {
   "cell_type": "code",
   "execution_count": 0,
   "metadata": {
    "application/vnd.databricks.v1+cell": {
     "cellMetadata": {
      "byteLimit": 2048000,
      "rowLimit": 10000
     },
     "inputWidgets": {},
     "nuid": "69f8d640-d225-44f2-8982-52c40770f1e2",
     "showTitle": false,
     "tableResultSettingsMap": {},
     "title": ""
    }
   },
   "outputs": [
    {
     "output_type": "stream",
     "name": "stdout",
     "output_type": "stream",
     "text": [
      "\r  0%|          | 0/20 [00:00<?, ?trial/s, best loss=?]"
     ]
    },
    {
     "output_type": "display_data",
     "data": {
      "application/vnd.jupyter.widget-view+json": {
       "model_id": "be0fc9410084470bb8a6e5bb57f7db8c",
       "version_major": 2,
       "version_minor": 0
      },
      "text/plain": [
       "Uploading artifacts:   0%|          | 0/9 [00:00<?, ?it/s]"
      ]
     },
     "metadata": {},
     "output_type": "display_data"
    },
    {
     "output_type": "stream",
     "name": "stdout",
     "output_type": "stream",
     "text": [
      "\r  5%|▌         | 1/20 [00:49<15:39, 49.44s/trial, best loss: 8.711181614321152]"
     ]
    },
    {
     "output_type": "display_data",
     "data": {
      "application/vnd.jupyter.widget-view+json": {
       "model_id": "f17dbcb97dd54c9a85c85f7b407b9479",
       "version_major": 2,
       "version_minor": 0
      },
      "text/plain": [
       "Uploading artifacts:   0%|          | 0/9 [00:00<?, ?it/s]"
      ]
     },
     "metadata": {},
     "output_type": "display_data"
    },
    {
     "output_type": "stream",
     "name": "stdout",
     "output_type": "stream",
     "text": [
      "\r 10%|█         | 2/20 [03:09<30:44, 102.48s/trial, best loss: 8.711181614321152]"
     ]
    },
    {
     "output_type": "display_data",
     "data": {
      "application/vnd.jupyter.widget-view+json": {
       "model_id": "3d871d916e114ee596818c6ff7ae952d",
       "version_major": 2,
       "version_minor": 0
      },
      "text/plain": [
       "Uploading artifacts:   0%|          | 0/9 [00:00<?, ?it/s]"
      ]
     },
     "metadata": {},
     "output_type": "display_data"
    },
    {
     "output_type": "stream",
     "name": "stdout",
     "output_type": "stream",
     "text": [
      "\r 15%|█▌        | 3/20 [03:33<18:56, 66.84s/trial, best loss: 8.711181614321152] "
     ]
    },
    {
     "output_type": "display_data",
     "data": {
      "application/vnd.jupyter.widget-view+json": {
       "model_id": "33a9ce32310e4ba391109ddeaaa34e1b",
       "version_major": 2,
       "version_minor": 0
      },
      "text/plain": [
       "Uploading artifacts:   0%|          | 0/9 [00:00<?, ?it/s]"
      ]
     },
     "metadata": {},
     "output_type": "display_data"
    },
    {
     "output_type": "stream",
     "name": "stderr",
     "output_type": "stream",
     "text": [
      "WARNING:urllib3.connectionpool:Connection pool is full, discarding connection: dbstorageg7u3yynba76py.dfs.core.windows.net. Connection pool size: 10\nWARNING:urllib3.connectionpool:Connection pool is full, discarding connection: dbstorageg7u3yynba76py.dfs.core.windows.net. Connection pool size: 10\nWARNING:urllib3.connectionpool:Connection pool is full, discarding connection: dbstorageg7u3yynba76py.dfs.core.windows.net. Connection pool size: 10\n"
     ]
    },
    {
     "output_type": "stream",
     "name": "stdout",
     "output_type": "stream",
     "text": [
      "\r 20%|██        | 4/20 [05:41<24:12, 90.80s/trial, best loss: 8.648551067690377]"
     ]
    },
    {
     "output_type": "display_data",
     "data": {
      "application/vnd.jupyter.widget-view+json": {
       "model_id": "db63d5f42d3d4d0c8993ebebef5c4aa1",
       "version_major": 2,
       "version_minor": 0
      },
      "text/plain": [
       "Uploading artifacts:   0%|          | 0/9 [00:00<?, ?it/s]"
      ]
     },
     "metadata": {},
     "output_type": "display_data"
    },
    {
     "output_type": "stream",
     "name": "stdout",
     "output_type": "stream",
     "text": [
      "\r 25%|██▌       | 5/20 [06:50<20:44, 82.94s/trial, best loss: 8.648551067690377]"
     ]
    },
    {
     "output_type": "display_data",
     "data": {
      "application/vnd.jupyter.widget-view+json": {
       "model_id": "06b005ddbf904b6e8ee2897b20efb9b0",
       "version_major": 2,
       "version_minor": 0
      },
      "text/plain": [
       "Uploading artifacts:   0%|          | 0/9 [00:00<?, ?it/s]"
      ]
     },
     "metadata": {},
     "output_type": "display_data"
    },
    {
     "output_type": "display_data",
     "data": {
      "application/vnd.jupyter.widget-view+json": {
       "model_id": "2a376d0a3d1a4841859beb307586c424",
       "version_major": 2,
       "version_minor": 0
      },
      "text/plain": [
       "Uploading /local_disk0/repl_tmp_data/ReplId-197f7-97e5f-7/tmpbm83o7wh/model/model.pkl:   0%|          | 0.00/1…"
      ]
     },
     "metadata": {},
     "output_type": "display_data"
    },
    {
     "output_type": "stream",
     "name": "stdout",
     "output_type": "stream",
     "text": [
      "\r 30%|███       | 6/20 [09:26<25:09, 107.83s/trial, best loss: 8.648551067690377]"
     ]
    },
    {
     "output_type": "display_data",
     "data": {
      "application/vnd.jupyter.widget-view+json": {
       "model_id": "5cffcbe71623448eb543c65fa7c0ca1d",
       "version_major": 2,
       "version_minor": 0
      },
      "text/plain": [
       "Uploading artifacts:   0%|          | 0/9 [00:00<?, ?it/s]"
      ]
     },
     "metadata": {},
     "output_type": "display_data"
    },
    {
     "output_type": "display_data",
     "data": {
      "application/vnd.jupyter.widget-view+json": {
       "model_id": "1c0087232b7e448daea8e303cdd56329",
       "version_major": 2,
       "version_minor": 0
      },
      "text/plain": [
       "Uploading /local_disk0/repl_tmp_data/ReplId-197f7-97e5f-7/tmpanp54oo_/model/model.pkl:   0%|          | 0.00/1…"
      ]
     },
     "metadata": {},
     "output_type": "display_data"
    },
    {
     "output_type": "stream",
     "name": "stderr",
     "output_type": "stream",
     "text": [
      "WARNING:urllib3.connectionpool:Connection pool is full, discarding connection: dbstorageg7u3yynba76py.dfs.core.windows.net. Connection pool size: 10\nWARNING:urllib3.connectionpool:Connection pool is full, discarding connection: dbstorageg7u3yynba76py.dfs.core.windows.net. Connection pool size: 10\n"
     ]
    },
    {
     "output_type": "stream",
     "name": "stdout",
     "output_type": "stream",
     "text": [
      "\r 35%|███▌      | 7/20 [12:02<26:47, 123.63s/trial, best loss: 8.648551067690377]"
     ]
    },
    {
     "output_type": "display_data",
     "data": {
      "application/vnd.jupyter.widget-view+json": {
       "model_id": "0537f75d2d574030882c8fc2949647ac",
       "version_major": 2,
       "version_minor": 0
      },
      "text/plain": [
       "Uploading artifacts:   0%|          | 0/9 [00:00<?, ?it/s]"
      ]
     },
     "metadata": {},
     "output_type": "display_data"
    },
    {
     "output_type": "stream",
     "name": "stdout",
     "output_type": "stream",
     "text": [
      "\r 40%|████      | 8/20 [12:40<19:17, 96.42s/trial, best loss: 8.648551067690377] "
     ]
    },
    {
     "output_type": "display_data",
     "data": {
      "application/vnd.jupyter.widget-view+json": {
       "model_id": "fb45bd6542574f189c510b9570d3dd66",
       "version_major": 2,
       "version_minor": 0
      },
      "text/plain": [
       "Uploading artifacts:   0%|          | 0/9 [00:00<?, ?it/s]"
      ]
     },
     "metadata": {},
     "output_type": "display_data"
    },
    {
     "output_type": "stream",
     "name": "stderr",
     "output_type": "stream",
     "text": [
      "WARNING:urllib3.connectionpool:Connection pool is full, discarding connection: dbstorageg7u3yynba76py.dfs.core.windows.net. Connection pool size: 10\nWARNING:urllib3.connectionpool:Connection pool is full, discarding connection: dbstorageg7u3yynba76py.dfs.core.windows.net. Connection pool size: 10\nWARNING:urllib3.connectionpool:Connection pool is full, discarding connection: dbstorageg7u3yynba76py.dfs.core.windows.net. Connection pool size: 10\n"
     ]
    },
    {
     "output_type": "stream",
     "name": "stdout",
     "output_type": "stream",
     "text": [
      "\r 45%|████▌     | 9/20 [13:26<14:47, 80.64s/trial, best loss: 8.648551067690377]"
     ]
    },
    {
     "output_type": "display_data",
     "data": {
      "application/vnd.jupyter.widget-view+json": {
       "model_id": "2f56c1e76598493fbee906cec67afa5c",
       "version_major": 2,
       "version_minor": 0
      },
      "text/plain": [
       "Uploading artifacts:   0%|          | 0/9 [00:00<?, ?it/s]"
      ]
     },
     "metadata": {},
     "output_type": "display_data"
    },
    {
     "output_type": "stream",
     "name": "stdout",
     "output_type": "stream",
     "text": [
      "\r 50%|█████     | 10/20 [15:43<16:21, 98.18s/trial, best loss: 8.648551067690377]"
     ]
    },
    {
     "output_type": "display_data",
     "data": {
      "application/vnd.jupyter.widget-view+json": {
       "model_id": "f65e391275b34cd9bb0858a381d35534",
       "version_major": 2,
       "version_minor": 0
      },
      "text/plain": [
       "Uploading artifacts:   0%|          | 0/9 [00:00<?, ?it/s]"
      ]
     },
     "metadata": {},
     "output_type": "display_data"
    },
    {
     "output_type": "stream",
     "name": "stdout",
     "output_type": "stream",
     "text": [
      "\r 55%|█████▌    | 11/20 [16:08<11:19, 75.52s/trial, best loss: 8.648551067690377]"
     ]
    },
    {
     "output_type": "display_data",
     "data": {
      "application/vnd.jupyter.widget-view+json": {
       "model_id": "de79538de5c44f7da452c95d0b2fed1e",
       "version_major": 2,
       "version_minor": 0
      },
      "text/plain": [
       "Uploading artifacts:   0%|          | 0/9 [00:00<?, ?it/s]"
      ]
     },
     "metadata": {},
     "output_type": "display_data"
    },
    {
     "output_type": "display_data",
     "data": {
      "application/vnd.jupyter.widget-view+json": {
       "model_id": "ee020d6534754f7097854736136bb2e2",
       "version_major": 2,
       "version_minor": 0
      },
      "text/plain": [
       "Uploading /local_disk0/repl_tmp_data/ReplId-197f7-97e5f-7/tmpmht8k03a/model/model.pkl:   0%|          | 0.00/1…"
      ]
     },
     "metadata": {},
     "output_type": "display_data"
    },
    {
     "output_type": "stream",
     "name": "stdout",
     "output_type": "stream",
     "text": [
      "\r 60%|██████    | 12/20 [19:56<16:16, 122.06s/trial, best loss: 8.648551067690377]"
     ]
    },
    {
     "output_type": "display_data",
     "data": {
      "application/vnd.jupyter.widget-view+json": {
       "model_id": "47ff3fc877314f798bf5dbf8ec94365a",
       "version_major": 2,
       "version_minor": 0
      },
      "text/plain": [
       "Uploading artifacts:   0%|          | 0/9 [00:00<?, ?it/s]"
      ]
     },
     "metadata": {},
     "output_type": "display_data"
    },
    {
     "output_type": "stream",
     "name": "stdout",
     "output_type": "stream",
     "text": [
      "\r 65%|██████▌   | 13/20 [20:52<11:54, 102.04s/trial, best loss: 8.648551067690377]"
     ]
    },
    {
     "output_type": "display_data",
     "data": {
      "application/vnd.jupyter.widget-view+json": {
       "model_id": "dca6a903a56b4ba8b0bc7358d094217f",
       "version_major": 2,
       "version_minor": 0
      },
      "text/plain": [
       "Uploading artifacts:   0%|          | 0/9 [00:00<?, ?it/s]"
      ]
     },
     "metadata": {},
     "output_type": "display_data"
    },
    {
     "output_type": "stream",
     "name": "stdout",
     "output_type": "stream",
     "text": [
      "\r 70%|███████   | 14/20 [21:56<09:03, 90.56s/trial, best loss: 8.648551067690377] "
     ]
    },
    {
     "output_type": "display_data",
     "data": {
      "application/vnd.jupyter.widget-view+json": {
       "model_id": "cd13a6f4fced43cb987d0c648be1da1c",
       "version_major": 2,
       "version_minor": 0
      },
      "text/plain": [
       "Uploading artifacts:   0%|          | 0/9 [00:00<?, ?it/s]"
      ]
     },
     "metadata": {},
     "output_type": "display_data"
    },
    {
     "output_type": "stream",
     "name": "stdout",
     "output_type": "stream",
     "text": [
      "\r 75%|███████▌  | 15/20 [23:32<07:40, 92.15s/trial, best loss: 8.648551067690377]"
     ]
    },
    {
     "output_type": "display_data",
     "data": {
      "application/vnd.jupyter.widget-view+json": {
       "model_id": "d5463a1ee63044c88075df778afed6c8",
       "version_major": 2,
       "version_minor": 0
      },
      "text/plain": [
       "Uploading artifacts:   0%|          | 0/9 [00:00<?, ?it/s]"
      ]
     },
     "metadata": {},
     "output_type": "display_data"
    },
    {
     "output_type": "stream",
     "name": "stdout",
     "output_type": "stream",
     "text": [
      "\r 80%|████████  | 16/20 [24:21<05:16, 79.14s/trial, best loss: 8.648551067690377]"
     ]
    },
    {
     "output_type": "display_data",
     "data": {
      "application/vnd.jupyter.widget-view+json": {
       "model_id": "22484f0b01cf4755836ae76634b9b002",
       "version_major": 2,
       "version_minor": 0
      },
      "text/plain": [
       "Uploading artifacts:   0%|          | 0/9 [00:00<?, ?it/s]"
      ]
     },
     "metadata": {},
     "output_type": "display_data"
    },
    {
     "output_type": "display_data",
     "data": {
      "application/vnd.jupyter.widget-view+json": {
       "model_id": "066f897693464c34915f53dfdd961ca0",
       "version_major": 2,
       "version_minor": 0
      },
      "text/plain": [
       "Uploading /local_disk0/repl_tmp_data/ReplId-197f7-97e5f-7/tmp8fwzwexn/model/model.pkl:   0%|          | 0.00/1…"
      ]
     },
     "metadata": {},
     "output_type": "display_data"
    },
    {
     "output_type": "stream",
     "name": "stdout",
     "output_type": "stream",
     "text": [
      "\r 85%|████████▌ | 17/20 [27:03<05:12, 104.07s/trial, best loss: 8.648551067690377]"
     ]
    },
    {
     "output_type": "display_data",
     "data": {
      "application/vnd.jupyter.widget-view+json": {
       "model_id": "a518664a0e024521aa8231a79b69e4ee",
       "version_major": 2,
       "version_minor": 0
      },
      "text/plain": [
       "Uploading artifacts:   0%|          | 0/9 [00:00<?, ?it/s]"
      ]
     },
     "metadata": {},
     "output_type": "display_data"
    },
    {
     "output_type": "stream",
     "name": "stdout",
     "output_type": "stream",
     "text": [
      "\r 90%|█████████ | 18/20 [28:40<03:23, 101.99s/trial, best loss: 8.648551067690377]"
     ]
    },
    {
     "output_type": "display_data",
     "data": {
      "application/vnd.jupyter.widget-view+json": {
       "model_id": "86c5924d83f04f44b7c056cdb9490c98",
       "version_major": 2,
       "version_minor": 0
      },
      "text/plain": [
       "Uploading artifacts:   0%|          | 0/9 [00:00<?, ?it/s]"
      ]
     },
     "metadata": {},
     "output_type": "display_data"
    },
    {
     "output_type": "stream",
     "name": "stderr",
     "output_type": "stream",
     "text": [
      "WARNING:urllib3.connectionpool:Connection pool is full, discarding connection: dbstorageg7u3yynba76py.dfs.core.windows.net. Connection pool size: 10\n"
     ]
    },
    {
     "output_type": "stream",
     "name": "stdout",
     "output_type": "stream",
     "text": [
      "\r 95%|█████████▌| 19/20 [30:59<01:53, 113.14s/trial, best loss: 8.648551067690377]"
     ]
    },
    {
     "output_type": "display_data",
     "data": {
      "application/vnd.jupyter.widget-view+json": {
       "model_id": "390d03a7126f4fc49849c0b724b9407b",
       "version_major": 2,
       "version_minor": 0
      },
      "text/plain": [
       "Uploading artifacts:   0%|          | 0/9 [00:00<?, ?it/s]"
      ]
     },
     "metadata": {},
     "output_type": "display_data"
    },
    {
     "output_type": "stream",
     "name": "stdout",
     "output_type": "stream",
     "text": [
      "\r100%|██████████| 20/20 [31:40<00:00, 91.35s/trial, best loss: 8.648551067690377] \r100%|██████████| 20/20 [31:40<00:00, 95.01s/trial, best loss: 8.648551067690377]\nBest Hyperopt parameters: {'max_depth': 2, 'n_estimators': 2}\n"
     ]
    }
   ],
   "source": [
    "\n",
    "from hyperopt import fmin, tpe, hp, Trials, STATUS_OK\n",
    "from sklearn.ensemble import RandomForestRegressor\n",
    "from sklearn.metrics import mean_squared_error\n",
    "\n",
    "def objective(params):\n",
    "    if params[\"max_depth\"] is not None:\n",
    "        params[\"max_depth\"] = int(params[\"max_depth\"])\n",
    "    params[\"n_estimators\"] = int(params[\"n_estimators\"])\n",
    "\n",
    "    model = RandomForestRegressor(\n",
    "        n_estimators=params[\"n_estimators\"],\n",
    "        max_depth=params[\"max_depth\"],\n",
    "        random_state=42,\n",
    "        n_jobs=-1\n",
    "    )\n",
    "    model.fit(X_train, y_train)\n",
    "    preds = model.predict(X_test)\n",
    "    rmse  = mean_squared_error(y_test, preds, squared=False)\n",
    "    return {\"loss\": rmse, \"status\": STATUS_OK}\n",
    "\n",
    "search_space = {\n",
    "    \"n_estimators\": hp.choice(\"n_estimators\", [50, 100, 200, 300]),\n",
    "    \"max_depth\":    hp.choice(\"max_depth\",    [5, 10, 15, 20, None]),\n",
    "}\n",
    "\n",
    "trials = Trials()\n",
    "best   = fmin(\n",
    "    fn=objective,\n",
    "    space=search_space,\n",
    "    algo=tpe.suggest,\n",
    "    max_evals=20,\n",
    "    trials=trials,\n",
    "    rstate=__import__(\"numpy\").random.default_rng(42)  \n",
    ")\n",
    "\n",
    "print(\"Best Hyperopt parameters:\", best)"
   ]
  },
  {
   "cell_type": "code",
   "execution_count": 0,
   "metadata": {
    "application/vnd.databricks.v1+cell": {
     "cellMetadata": {
      "byteLimit": 2048000,
      "rowLimit": 10000
     },
     "inputWidgets": {},
     "nuid": "b08ab552-0f86-40dc-ba80-819ca0ae5f77",
     "showTitle": false,
     "tableResultSettingsMap": {},
     "title": ""
    }
   },
   "outputs": [
    {
     "output_type": "display_data",
     "data": {
      "application/vnd.jupyter.widget-view+json": {
       "model_id": "8f6ea74e03b54c729e8ba9ed9e10878f",
       "version_major": 2,
       "version_minor": 0
      },
      "text/plain": [
       "Uploading artifacts:   0%|          | 0/9 [00:00<?, ?it/s]"
      ]
     },
     "metadata": {},
     "output_type": "display_data"
    },
    {
     "output_type": "stream",
     "name": "stdout",
     "output_type": "stream",
     "text": [
      "RandomForest RMSE (tuned): 8.65\n"
     ]
    }
   ],
   "source": [
    "best_params = {\n",
    "    \"n_estimators\": [50, 100, 200, 300][best[\"n_estimators\"]],\n",
    "    \"max_depth\":    [5, 10, 15, 20, None][best[\"max_depth\"]],\n",
    "    \"random_state\": 42,\n",
    "    \"n_jobs\":       -1\n",
    "}\n",
    "\n",
    "rf = RandomForestRegressor(**best_params)\n",
    "rf.fit(X_train, y_train)\n",
    "\n",
    "rf_pred = rf.predict(X_test)\n",
    "rf_rmse = mean_squared_error(y_test, rf_pred, squared=False)\n",
    "print(f\"RandomForest RMSE (tuned): {rf_rmse:.2f}\")\n"
   ]
  },
  {
   "cell_type": "code",
   "execution_count": 0,
   "metadata": {
    "application/vnd.databricks.v1+cell": {
     "cellMetadata": {
      "byteLimit": 2048000,
      "rowLimit": 10000
     },
     "inputWidgets": {},
     "nuid": "90a626f3-dd89-4a1a-a735-f037a567c50b",
     "showTitle": false,
     "tableResultSettingsMap": {},
     "title": ""
    }
   },
   "outputs": [
    {
     "output_type": "display_data",
     "data": {
      "image/png": "[encoded data removed]",
      "text/plain": [
       "<Figure size 640x480 with 1 Axes>"
      ]
     },
     "metadata": {},
     "output_type": "display_data"
    }
   ],
   "source": [
    "import pandas as pd\n",
    "import matplotlib.pyplot as plt\n",
    "\n",
    "imp = pd.Series(rf.feature_importances_, index=FEATURES).sort_values(ascending=False)\n",
    "imp.plot(kind=\"barh\")\n",
    "plt.title(\"RandomForest Feature Importance\")\n",
    "plt.xlabel(\"Importance\")\n",
    "plt.gca().invert_yaxis()           \n",
    "plt.show()"
   ]
  }
 ],
 "metadata": {
  "application/vnd.databricks.v1+notebook": {
   "computePreferences": null,
   "dashboards": [],
   "environmentMetadata": {
    "base_environment": "",
    "environment_version": "2"
   },
   "inputWidgetPreferences": null,
   "language": "python",
   "notebookMetadata": {
    "pythonIndentUnit": 4
   },
   "notebookName": "Weather_ML_Model",
   "widgets": {}
  },
  "language_info": {
   "name": "python"
  }
 },
 "nbformat": 4,
 "nbformat_minor": 0
}